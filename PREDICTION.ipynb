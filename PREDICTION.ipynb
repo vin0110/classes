{
 "cells": [
  {
   "cell_type": "code",
   "execution_count": 2,
   "metadata": {
    "colab": {},
    "colab_type": "code",
    "id": "-RrOhP9ejUIa"
   },
   "outputs": [
    {
     "name": "stderr",
     "output_type": "stream",
     "text": [
      "Using TensorFlow backend.\n"
     ]
    },
    {
     "ename": "ModuleNotFoundError",
     "evalue": "No module named 'matplotlib'",
     "output_type": "error",
     "traceback": [
      "\u001b[0;31m---------------------------------------------------------------------------\u001b[0m",
      "\u001b[0;31mModuleNotFoundError\u001b[0m                       Traceback (most recent call last)",
      "\u001b[0;32m<ipython-input-2-a958e4447f0c>\u001b[0m in \u001b[0;36m<module>\u001b[0;34m\u001b[0m\n\u001b[1;32m      3\u001b[0m \u001b[0;32mfrom\u001b[0m \u001b[0mkeras\u001b[0m\u001b[0;34m.\u001b[0m\u001b[0mmodels\u001b[0m \u001b[0;32mimport\u001b[0m \u001b[0mSequential\u001b[0m\u001b[0;34m\u001b[0m\u001b[0;34m\u001b[0m\u001b[0m\n\u001b[1;32m      4\u001b[0m \u001b[0;32mfrom\u001b[0m \u001b[0mkeras\u001b[0m\u001b[0;34m.\u001b[0m\u001b[0mlayers\u001b[0m \u001b[0;32mimport\u001b[0m \u001b[0mLSTM\u001b[0m\u001b[0;34m,\u001b[0m\u001b[0mDense\u001b[0m\u001b[0;34m\u001b[0m\u001b[0;34m\u001b[0m\u001b[0m\n\u001b[0;32m----> 5\u001b[0;31m \u001b[0;32mimport\u001b[0m \u001b[0mmatplotlib\u001b[0m\u001b[0;34m.\u001b[0m\u001b[0mpyplot\u001b[0m \u001b[0;32mas\u001b[0m \u001b[0mplt\u001b[0m\u001b[0;34m\u001b[0m\u001b[0;34m\u001b[0m\u001b[0m\n\u001b[0m\u001b[1;32m      6\u001b[0m \u001b[0;34m\u001b[0m\u001b[0m\n\u001b[1;32m      7\u001b[0m \u001b[0;32mfrom\u001b[0m \u001b[0mkeras\u001b[0m\u001b[0;34m.\u001b[0m\u001b[0mmodels\u001b[0m \u001b[0;32mimport\u001b[0m \u001b[0mload_model\u001b[0m\u001b[0;34m\u001b[0m\u001b[0;34m\u001b[0m\u001b[0m\n",
      "\u001b[0;31mModuleNotFoundError\u001b[0m: No module named 'matplotlib'"
     ]
    }
   ],
   "source": [
    "import numpy as np\n",
    "import pandas as pd\n",
    "from keras.models import Sequential\n",
    "from keras.layers import LSTM,Dense\n",
    "import matplotlib.pyplot as plt\n",
    "\n",
    "from keras.models import load_model"
   ]
  },
  {
   "cell_type": "code",
   "execution_count": 3,
   "metadata": {},
   "outputs": [
    {
     "ename": "ModuleNotFoundError",
     "evalue": "No module named 'markdown'",
     "output_type": "error",
     "traceback": [
      "\u001b[0;31m---------------------------------------------------------------------------\u001b[0m",
      "\u001b[0;31mModuleNotFoundError\u001b[0m                       Traceback (most recent call last)",
      "\u001b[0;32m<ipython-input-3-eabb16ae5fea>\u001b[0m in \u001b[0;36m<module>\u001b[0;34m()\u001b[0m\n\u001b[0;32m----> 1\u001b[0;31m \u001b[0;32mimport\u001b[0m \u001b[0mmarkdown\u001b[0m\u001b[0;34m\u001b[0m\u001b[0;34m\u001b[0m\u001b[0m\n\u001b[0m",
      "\u001b[0;31mModuleNotFoundError\u001b[0m: No module named 'markdown'"
     ]
    }
   ],
   "source": [
    "import markdown"
   ]
  },
  {
   "cell_type": "code",
   "execution_count": null,
   "metadata": {
    "colab": {},
    "colab_type": "code",
    "id": "NAlqEhx2jh95"
   },
   "outputs": [],
   "source": [
    "look_back = 200\n",
    "forward_days = 180\n",
    "num_periods = 4\n",
    "targetmonth= 9\n",
    "X1,Y1,X2,Y2 = [],[],[],[]"
   ]
  },
  {
   "cell_type": "markdown",
   "metadata": {
    "colab_type": "text",
    "id": "0p-dHGIXjpSv"
   },
   "source": [
    "First, just open the CSV using Pandas, set the Date as index and keep only the Closing Price column."
   ]
  },
  {
   "cell_type": "code",
   "execution_count": null,
   "metadata": {},
   "outputs": [],
   "source": [
    "\"\"\"\n",
    "#Test section\n",
    "dfinitial = pd.read_csv('corn_barchart_new.csv')\n",
    "df=dfinitial[dfinitial['month']==month]\n",
    "_df3 = df[df['year']==2010]\n",
    "_df3['date'] = pd.to_datetime(_df3['date'])\n",
    "_df3.set_index('date', inplace=True)\n",
    "_df3.sort_index(axis = 0)\n",
    "n=2\n",
    "df3=_df3.head(n)\n",
    "df3 = df3[::-1]\n",
    "print(df3)\n",
    "#_dfx = _df3['day']\n",
    "#array1 = _dfx.values.reshape(_dfx.shape[0],1)\n",
    "#array1[0:5]\n",
    "\"\"\""
   ]
  },
  {
   "cell_type": "code",
   "execution_count": null,
   "metadata": {
    "colab": {},
    "colab_type": "code",
    "id": "2zPzu3F0jyYZ"
   },
   "outputs": [],
   "source": [
    "#to be changed\n",
    "#open the csv, chose company_N, where N = {A, B, C or D}\n",
    "dfinitial = pd.read_csv('corn_barchart_new.csv')\n",
    "\n",
    "#_y = data['year'].drop_duplicates().sort_values()\n",
    "#years = data['year'].unique()\n",
    "#years = pd.unique(_df['year'])\n",
    "#years.sort()\n",
    "\n",
    "for month in (3,5,7,9,12):\n",
    "    df=dfinitial[dfinitial['month']==month]\n",
    "    for year in range(2003,2018):\n",
    "        _df2 = df[df['year']==year]\n",
    "        _df2['date'] = pd.to_datetime(_df2['date'])\n",
    "        _df2.set_index('date', inplace=True)\n",
    "        _df2.sort_index(axis = 0)\n",
    "        n = look_back + forward_days\n",
    "        _df2=_df2.head(n)\n",
    "        _df2 = _df2[::-1]\n",
    "        #keep only the 'close' column\n",
    "        _df2 = _df2['close']\n",
    "        \n",
    "        #Data normalization\n",
    "        array = _df2.values.reshape(_df2.shape[0],1)\n",
    "        from sklearn.preprocessing import MinMaxScaler\n",
    "        scl = MinMaxScaler()\n",
    "        array = scl.fit_transform(array)\n",
    "        \n",
    "        #Get the data and splits in input X and output Y, by spliting in `look_back` past days as\n",
    "        #input X and `forward_days` coming days as Y.\n",
    "        X1.append(array[0:look_back])\n",
    "        Y1.append(array[look_back:(look_back+forward_days)])\n",
    "\n",
    "X = np.array(X1)\n",
    "y = np.array(Y1)\n",
    "y = np.array([list(a.ravel()) for a in y])\n",
    "\n",
    "df=dfinitial[dfinitial['month']==targetmonth]\n",
    "for year in range(2018,2020):\n",
    "    _df2 = df[df['year']==year]\n",
    "    _df2['date'] = pd.to_datetime(_df2['date'])\n",
    "    _df2.set_index('date', inplace=True)\n",
    "    _df2.sort_index(axis = 0)\n",
    "    n = look_back + forward_days\n",
    "    _df2=_df2.head(n)\n",
    "    _df2 = _df2[::-1]\n",
    "    #keep only the 'Close' column\n",
    "    _df2 = _df2['close']\n",
    "    array = _df2.values.reshape(_df2.shape[0],1)\n",
    "    from sklearn.preprocessing import MinMaxScaler\n",
    "    scl = MinMaxScaler()\n",
    "    array = scl.fit_transform(array)\n",
    "    X2.append(array[0:look_back])\n",
    "    Y2.append(array[look_back:(look_back+forward_days)])\n",
    "\n",
    "X_test = np.array(X2)\n",
    "y_test  = np.array(Y2)\n",
    "y_test  = np.array([list(a.ravel()) for a in y_test ])\n",
    "\n",
    "#Split the data in Data to Train/Validate the LSTM and Data to Test the model\n",
    "\n",
    "from sklearn.model_selection import train_test_split\n",
    "X_train, X_validate, y_train, y_validate = train_test_split(X, y, test_size=0.20, random_state=42)\n",
    "\n"
   ]
  },
  {
   "cell_type": "code",
   "execution_count": null,
   "metadata": {},
   "outputs": [],
   "source": [
    "#VERIFYING\n",
    "print(X_train.shape)\n",
    "print(X_validate.shape)\n",
    "print(X_test.shape)\n",
    "print(y_train.shape)\n",
    "print(y_validate.shape)\n",
    "print(y_test.shape)"
   ]
  },
  {
   "cell_type": "markdown",
   "metadata": {
    "colab_type": "text",
    "id": "7_gWqUk8mAts"
   },
   "source": [
    "\n",
    "**Training the LSTM**"
   ]
  },
  {
   "cell_type": "code",
   "execution_count": null,
   "metadata": {
    "colab": {},
    "colab_type": "code",
    "id": "0cMhdreEmKnQ"
   },
   "outputs": [],
   "source": [
    "NUM_NEURONS_FirstLayer = 50\n",
    "NUM_NEURONS_SecondLayer = 30\n",
    "EPOCHS = 100\n",
    "\n",
    "#Build the model\n",
    "model = Sequential()\n",
    "model.add(LSTM(NUM_NEURONS_FirstLayer,input_shape=(look_back,1), return_sequences=True))\n",
    "model.add(LSTM(NUM_NEURONS_SecondLayer,input_shape=(NUM_NEURONS_FirstLayer,1)))\n",
    "model.add(Dense(forward_days))\n",
    "model.compile(loss='mean_squared_error', optimizer='adam')\n",
    "\n",
    "history = model.fit(X_train,y_train,epochs=EPOCHS,validation_data=(X_validate,y_validate),shuffle=True,batch_size=2, verbose=2)"
   ]
  },
  {
   "cell_type": "code",
   "execution_count": null,
   "metadata": {
    "colab": {},
    "colab_type": "code",
    "id": "YBo55WS_mg1i"
   },
   "outputs": [],
   "source": [
    "plt.figure(figsize = (15,10))\n",
    "plt.plot(history.history['loss'], label='loss')\n",
    "plt.plot(history.history['val_loss'], label='val_loss')\n",
    "plt.legend(loc='best')\n",
    "plt.show()"
   ]
  },
  {
   "cell_type": "markdown",
   "metadata": {
    "colab_type": "text",
    "id": "jijECAwjms3z"
   },
   "source": [
    "**Predicting the Test Set to see the results**"
   ]
  },
  {
   "cell_type": "code",
   "execution_count": null,
   "metadata": {
    "colab": {},
    "colab_type": "code",
    "id": "bBn_VC7ymvmP"
   },
   "outputs": [],
   "source": [
    "Xt = model.predict(X_test)\n",
    "print(len(Xt))\n",
    "print(Xt.shape)"
   ]
  },
  {
   "cell_type": "code",
   "execution_count": null,
   "metadata": {
    "colab": {},
    "colab_type": "code",
    "id": "9KvfyKK2m0o2"
   },
   "outputs": [],
   "source": [
    "plt.figure(figsize = (15,10))\n",
    "\n",
    "for i in range(0,len(Xt)):\n",
    "    plt.plot([x + i*forward_days for x in range(len(Xt[i]))], scl.inverse_transform(Xt[i].reshape(-1,1)), color='r')\n",
    "    \n",
    "plt.plot(0, scl.inverse_transform(Xt[i].reshape(-1,1))[0], color='r', label='Prediction') #only to place the label\n",
    "    \n",
    "plt.plot(scl.inverse_transform(y_test.reshape(-1,1)), label='Target')\n",
    "plt.legend(loc='best')\n",
    "plt.show()"
   ]
  }
 ],
 "metadata": {
  "colab": {
   "authorship_tag": "ABX9TyNu8JfQpEhO5UMGTOdS0vvR",
   "name": "Copy of PREDICTION.ipynb",
   "provenance": [
    {
     "file_id": "1-x57GeKSuqCHQ6eFlpuRdGJY73pCP7kS",
     "timestamp": 1586639742818
    }
   ],
   "toc_visible": true
  },
  "kernelspec": {
   "display_name": "FarmationCodes",
   "language": "python",
   "name": "farmationcodes"
  },
  "language_info": {
   "codemirror_mode": {
    "name": "ipython",
    "version": 3
   },
   "file_extension": ".py",
   "mimetype": "text/x-python",
   "name": "python",
   "nbconvert_exporter": "python",
   "pygments_lexer": "ipython3",
   "version": "3.6.9"
  }
 },
 "nbformat": 4,
 "nbformat_minor": 1
}
